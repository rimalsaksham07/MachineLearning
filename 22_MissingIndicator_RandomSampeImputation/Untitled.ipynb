{
 "cells": [
  {
   "cell_type": "markdown",
   "id": "225d5859-7afe-415f-8a01-8e62485332eb",
   "metadata": {},
   "source": [
    "### Missing Indicator"
   ]
  },
  {
   "cell_type": "markdown",
   "id": "ae78ff81-a04d-4409-be9d-ee667ec5b4c6",
   "metadata": {},
   "source": [
    "Suppose we have to column age and fare now if there is missing column in any of the column then we indicate and make a new column and indicate true and false if there is missing column then set it true and id there is no missing value then set it to false"
   ]
  },
  {
   "cell_type": "code",
   "execution_count": null,
   "id": "b854660f-007d-4bf1-bdd2-2d929475e207",
   "metadata": {},
   "outputs": [],
   "source": []
  }
 ],
 "metadata": {
  "kernelspec": {
   "display_name": "Python 3 (ipykernel)",
   "language": "python",
   "name": "python3"
  },
  "language_info": {
   "codemirror_mode": {
    "name": "ipython",
    "version": 3
   },
   "file_extension": ".py",
   "mimetype": "text/x-python",
   "name": "python",
   "nbconvert_exporter": "python",
   "pygments_lexer": "ipython3",
   "version": "3.12.4"
  }
 },
 "nbformat": 4,
 "nbformat_minor": 5
}
