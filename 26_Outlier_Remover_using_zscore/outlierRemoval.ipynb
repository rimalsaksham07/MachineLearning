{
 "cells": [
  {
   "cell_type": "markdown",
   "id": "55030d27-8b84-4cb7-bfed-7acfc4acde4c",
   "metadata": {},
   "source": [
    "### What are Outliers? \n",
    "The type of observations which are different from others then it is outliers. So in machine learning it should be detected and remover becuase it can make out model problematic. For example there is linear relations model and there is outlier in the model then it is not the correct representation becuase in linear regression when we draw a line it makes error. \n",
    "1. When outliers are dangerous?\n",
    "   - for example age = 300 which cant be true so we shoudl remove these outliers.\n",
    "2. When there are not?\n",
    "   - for example transaction of bank bill gates can have high transaction than other so we\n",
    "     shouldnot remove the transaction of bill gates.\n"
   ]
  },
  {
   "cell_type": "markdown",
   "id": "db1fd22a-c085-4b3f-aab9-00b5c59e9063",
   "metadata": {},
   "source": [
    "Outliers affects:\n",
    "1. Linear Regression\n",
    "2. Logistic Regression\n",
    "3. Ada boost\n",
    "4. Deep learning.\n",
    "- in all of the algorithm we calculate weights so all have impact in the algorithm"
   ]
  },
  {
   "cell_type": "markdown",
   "id": "a6316304-5917-4524-9b76-b12984016e87",
   "metadata": {},
   "source": [
    "How to treat outliers?\n",
    "1. Trimming - removing the outliers\n",
    "2. Capping - limit rakhne esko mathi sabai outliers ho bhanera tellai bhanxa capping\n",
    "3. Missing Value - assuming the outlier missing value\n",
    "4. Discretization - interval ma rakhne process lai "
   ]
  },
  {
   "cell_type": "markdown",
   "id": "856af354-7e32-4b81-8926-2dde05e52fc9",
   "metadata": {},
   "source": [
    "How to detect Outliers?\n",
    "1. Normal Distribution ( u + 3sigma) less than or grater than bhayo bhane there is outlier\n",
    "2. IQR (inter quartile distribution) skewing herne esma chai\n",
    "3. Percentile based approach"
   ]
  },
  {
   "cell_type": "markdown",
   "id": "6731b867-ab30-4f48-995a-fec197ed7989",
   "metadata": {},
   "source": [
    "What we will learn?\n",
    "1. Z-score\n",
    "2. IQR\n",
    "3. Percentile\n",
    "4. Winsorization"
   ]
  },
  {
   "cell_type": "code",
   "execution_count": null,
   "id": "99289464-37cb-4214-b5a5-dde0e2ec880b",
   "metadata": {},
   "outputs": [],
   "source": []
  }
 ],
 "metadata": {
  "kernelspec": {
   "display_name": "Python 3 (ipykernel)",
   "language": "python",
   "name": "python3"
  },
  "language_info": {
   "codemirror_mode": {
    "name": "ipython",
    "version": 3
   },
   "file_extension": ".py",
   "mimetype": "text/x-python",
   "name": "python",
   "nbconvert_exporter": "python",
   "pygments_lexer": "ipython3",
   "version": "3.12.4"
  }
 },
 "nbformat": 4,
 "nbformat_minor": 5
}
