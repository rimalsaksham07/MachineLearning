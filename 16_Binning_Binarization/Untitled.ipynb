{
 "cells": [
  {
   "cell_type": "markdown",
   "id": "a1c0da83-bc3a-4563-9aa0-8c5c8040edf5",
   "metadata": {},
   "source": [
    "### Encoding Numerical Features"
   ]
  },
  {
   "cell_type": "markdown",
   "id": "afc6784f-43a7-4382-9ed4-c1f73e8915e1",
   "metadata": {},
   "source": [
    "euta ko value chai ekdamai kam xare ani arko ko value chai ekdamai dherai xa bhane numerical bhanda ni hamle categorical ma kam garnu parne huna sakxa so we create categorization to make it normal"
   ]
  },
  {
   "cell_type": "markdown",
   "id": "384863f3-6d8e-477a-b759-7489d97b4d64",
   "metadata": {},
   "source": [
    "1. Discritization (binning)\n",
    "2. Binarization "
   ]
  },
  {
   "cell_type": "markdown",
   "id": "0a12197a-9f66-4926-9379-50512abfe1bf",
   "metadata": {},
   "source": [
    "1. Discritization\n",
    "   interval ma banaidena for eg 10-20 20-30 30-40 esari interval ma badhdine is the process call discritization where invterval is known as bins\n",
    "   * Binning\n",
    "     * Unsupervised\n",
    "         * Equal Width\n",
    "         * Equal Frequency\n",
    "         * K mean Bining\n",
    "     * Supervised\n",
    "         * Decision Tree Bining"
   ]
  },
  {
   "cell_type": "markdown",
   "id": "d074d023-6af1-4517-b0a0-6e7e2042c1aa",
   "metadata": {},
   "source": [
    "### Equal Width / Uniform Binning\n",
    "equally bining garne 10-20 20-30 30-40 esari binning garne "
   ]
  },
  {
   "cell_type": "markdown",
   "id": "13205732-0fcc-4db6-b5f1-a2190bd2c433",
   "metadata": {},
   "source": [
    "### Equal Frequency\n",
    "percentile ma freuqecy divide garxa elle chai 1-10 = 10% esari distribuute garxa equal width nahuna ni sakxa esma chai "
   ]
  },
  {
   "cell_type": "markdown",
   "id": "46ce54f1-42c7-4482-a0f6-9bdae7899aed",
   "metadata": {},
   "source": [
    "### K mean binning\n",
    "elle chai clusters banayera kam garxa cluster bhanya group banayera kam garxa elle chai randomly interval create garxa ani binning garxa"
   ]
  },
  {
   "cell_type": "code",
   "execution_count": 17,
   "id": "5f3c7a88-4c5b-41f4-b62a-368ab2cb3399",
   "metadata": {},
   "outputs": [],
   "source": [
    "import pandas as pd\n",
    "import numpy as np"
   ]
  },
  {
   "cell_type": "code",
   "execution_count": 33,
   "id": "df78e78e-0941-4608-8981-71d34f3de4e3",
   "metadata": {},
   "outputs": [],
   "source": [
    "import matplotlib.pyplot as plt\n",
    "from sklearn.model_selection import train_test_split\n",
    "from sklearn.tree import DecisionTreeClassifier\n",
    "from sklearn.metrics import accuracy_score\n",
    "from sklearn.model_selection import cross_val_score\n",
    "from sklearn.preprocessing import KBinsDiscretizer\n",
    "from sklearn.compose import ColumnTransformer"
   ]
  },
  {
   "cell_type": "code",
   "execution_count": 35,
   "id": "3b8c82be-9f5b-48ad-9508-7debda426511",
   "metadata": {},
   "outputs": [],
   "source": [
    "df = pd.read_csv('train.csv' , usecols = ['Age','Fare','Survived'])"
   ]
  },
  {
   "cell_type": "code",
   "execution_count": 37,
   "id": "509f4a16-7cff-46a9-b067-ce03493e843a",
   "metadata": {},
   "outputs": [
    {
     "data": {
      "text/plain": [
       "(891, 3)"
      ]
     },
     "execution_count": 37,
     "metadata": {},
     "output_type": "execute_result"
    }
   ],
   "source": [
    "df.shape"
   ]
  },
  {
   "cell_type": "code",
   "execution_count": 39,
   "id": "5c888143-3a8f-4078-9b95-1c95bd5ba720",
   "metadata": {},
   "outputs": [],
   "source": [
    "df.dropna(inplace=True)"
   ]
  },
  {
   "cell_type": "code",
   "execution_count": 41,
   "id": "8935a0bb-48e0-4580-90b4-fd053777514f",
   "metadata": {},
   "outputs": [
    {
     "data": {
      "text/plain": [
       "(714, 3)"
      ]
     },
     "execution_count": 41,
     "metadata": {},
     "output_type": "execute_result"
    }
   ],
   "source": [
    "df.shape"
   ]
  },
  {
   "cell_type": "code",
   "execution_count": 43,
   "id": "f1833ab2-de0b-4049-9ea3-dd30d0ebf924",
   "metadata": {},
   "outputs": [
    {
     "data": {
      "text/html": [
       "<div>\n",
       "<style scoped>\n",
       "    .dataframe tbody tr th:only-of-type {\n",
       "        vertical-align: middle;\n",
       "    }\n",
       "\n",
       "    .dataframe tbody tr th {\n",
       "        vertical-align: top;\n",
       "    }\n",
       "\n",
       "    .dataframe thead th {\n",
       "        text-align: right;\n",
       "    }\n",
       "</style>\n",
       "<table border=\"1\" class=\"dataframe\">\n",
       "  <thead>\n",
       "    <tr style=\"text-align: right;\">\n",
       "      <th></th>\n",
       "      <th>Survived</th>\n",
       "      <th>Age</th>\n",
       "      <th>Fare</th>\n",
       "    </tr>\n",
       "  </thead>\n",
       "  <tbody>\n",
       "    <tr>\n",
       "      <th>0</th>\n",
       "      <td>0</td>\n",
       "      <td>22.0</td>\n",
       "      <td>7.2500</td>\n",
       "    </tr>\n",
       "    <tr>\n",
       "      <th>1</th>\n",
       "      <td>1</td>\n",
       "      <td>38.0</td>\n",
       "      <td>71.2833</td>\n",
       "    </tr>\n",
       "    <tr>\n",
       "      <th>2</th>\n",
       "      <td>1</td>\n",
       "      <td>26.0</td>\n",
       "      <td>7.9250</td>\n",
       "    </tr>\n",
       "    <tr>\n",
       "      <th>3</th>\n",
       "      <td>1</td>\n",
       "      <td>35.0</td>\n",
       "      <td>53.1000</td>\n",
       "    </tr>\n",
       "    <tr>\n",
       "      <th>4</th>\n",
       "      <td>0</td>\n",
       "      <td>35.0</td>\n",
       "      <td>8.0500</td>\n",
       "    </tr>\n",
       "  </tbody>\n",
       "</table>\n",
       "</div>"
      ],
      "text/plain": [
       "   Survived   Age     Fare\n",
       "0         0  22.0   7.2500\n",
       "1         1  38.0  71.2833\n",
       "2         1  26.0   7.9250\n",
       "3         1  35.0  53.1000\n",
       "4         0  35.0   8.0500"
      ]
     },
     "execution_count": 43,
     "metadata": {},
     "output_type": "execute_result"
    }
   ],
   "source": [
    "df.head()"
   ]
  },
  {
   "cell_type": "code",
   "execution_count": 47,
   "id": "52572ee6-4e87-4c81-9dd9-030f076da4f1",
   "metadata": {},
   "outputs": [],
   "source": [
    "X = df.iloc[:,1:]\n",
    "y = df.iloc[:,0]"
   ]
  },
  {
   "cell_type": "code",
   "execution_count": 49,
   "id": "4aa5a729-655b-4177-a4e1-9fcf2c943d38",
   "metadata": {},
   "outputs": [],
   "source": [
    "X_train , X_test , y_train , y_test = train_test_split(X,y,test_size=0.2 , random_state=42)"
   ]
  },
  {
   "cell_type": "code",
   "execution_count": 51,
   "id": "f1427c1c-6878-43e7-a10b-f23dbba1e78b",
   "metadata": {},
   "outputs": [],
   "source": [
    "clf = DecisionTreeClassifier()"
   ]
  },
  {
   "cell_type": "code",
   "execution_count": 53,
   "id": "498ee4a4-33e7-4831-adc1-98f98bf219e5",
   "metadata": {},
   "outputs": [],
   "source": [
    "clf.fit(X_train , y_train)\n",
    "y_pred = clf.predict(X_test)"
   ]
  },
  {
   "cell_type": "code",
   "execution_count": 55,
   "id": "7c57a411-4e33-4b5f-907c-5e8269b83890",
   "metadata": {},
   "outputs": [
    {
     "data": {
      "text/plain": [
       "0.6363636363636364"
      ]
     },
     "execution_count": 55,
     "metadata": {},
     "output_type": "execute_result"
    }
   ],
   "source": [
    "accuracy_score(y_test , y_pred)"
   ]
  },
  {
   "cell_type": "code",
   "execution_count": 57,
   "id": "a6f23890-17ba-4258-bb03-85f607ccb109",
   "metadata": {},
   "outputs": [
    {
     "data": {
      "text/plain": [
       "0.6317488262910798"
      ]
     },
     "execution_count": 57,
     "metadata": {},
     "output_type": "execute_result"
    }
   ],
   "source": [
    "np.mean(cross_val_score(DecisionTreeClassifier(),X,y,cv=10, scoring='accuracy'))"
   ]
  },
  {
   "cell_type": "code",
   "execution_count": null,
   "id": "a47d14e9-b5dd-447d-a5e5-02fda88d6022",
   "metadata": {},
   "outputs": [],
   "source": []
  }
 ],
 "metadata": {
  "kernelspec": {
   "display_name": "Python 3 (ipykernel)",
   "language": "python",
   "name": "python3"
  },
  "language_info": {
   "codemirror_mode": {
    "name": "ipython",
    "version": 3
   },
   "file_extension": ".py",
   "mimetype": "text/x-python",
   "name": "python",
   "nbconvert_exporter": "python",
   "pygments_lexer": "ipython3",
   "version": "3.12.4"
  }
 },
 "nbformat": 4,
 "nbformat_minor": 5
}
