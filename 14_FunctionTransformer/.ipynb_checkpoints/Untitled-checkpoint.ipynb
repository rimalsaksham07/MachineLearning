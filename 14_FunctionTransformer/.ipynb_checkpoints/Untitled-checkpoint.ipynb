{
 "cells": [
  {
   "cell_type": "markdown",
   "id": "6d26a905-6d58-4370-800c-5125c08565e2",
   "metadata": {},
   "source": [
    "## Feature Engineering \n",
    "### - feature trainsformation\n",
    "  #### -- Mathematical transformation\n",
    "   ##### - Log transform\n",
    "   ##### - Reciprocal transform\n",
    "   "
   ]
  },
  {
   "cell_type": "code",
   "execution_count": 4,
   "id": "9da5f8d9-f1fd-4dff-ac0a-3a934a29b2b5",
   "metadata": {},
   "outputs": [
    {
     "ename": "SyntaxError",
     "evalue": "invalid syntax (1042256192.py, line 1)",
     "output_type": "error",
     "traceback": [
      "\u001b[1;36m  Cell \u001b[1;32mIn[4], line 1\u001b[1;36m\u001b[0m\n\u001b[1;33m    transformation le chai normally distribute garxa normal distribute is very important thing in statistics to make the problem solving easy\u001b[0m\n\u001b[1;37m                   ^\u001b[0m\n\u001b[1;31mSyntaxError\u001b[0m\u001b[1;31m:\u001b[0m invalid syntax\n"
     ]
    }
   ],
   "source": [
    "transformation le chai normally distribute garxa normal distribute is very important thing in statistics to make the problem solving easy "
   ]
  },
  {
   "cell_type": "code",
   "execution_count": null,
   "id": "7aa19d1e-7aa8-4700-a115-cd5dde19c98f",
   "metadata": {},
   "outputs": [],
   "source": []
  }
 ],
 "metadata": {
  "kernelspec": {
   "display_name": "Python 3 (ipykernel)",
   "language": "python",
   "name": "python3"
  },
  "language_info": {
   "codemirror_mode": {
    "name": "ipython",
    "version": 3
   },
   "file_extension": ".py",
   "mimetype": "text/x-python",
   "name": "python",
   "nbconvert_exporter": "python",
   "pygments_lexer": "ipython3",
   "version": "3.12.4"
  }
 },
 "nbformat": 4,
 "nbformat_minor": 5
}
