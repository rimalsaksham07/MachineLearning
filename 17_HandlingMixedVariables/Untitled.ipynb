{
 "cells": [
  {
   "cell_type": "markdown",
   "id": "172c0211-168b-4c8f-b1bf-8261637bb272",
   "metadata": {},
   "source": [
    "Mixed Data \n"
   ]
  },
  {
   "cell_type": "code",
   "execution_count": null,
   "id": "f72903f2-414a-41be-8e19-ebbb97ab8286",
   "metadata": {},
   "outputs": [],
   "source": []
  }
 ],
 "metadata": {
  "kernelspec": {
   "display_name": "Python 3 (ipykernel)",
   "language": "python",
   "name": "python3"
  },
  "language_info": {
   "codemirror_mode": {
    "name": "ipython",
    "version": 3
   },
   "file_extension": ".py",
   "mimetype": "text/x-python",
   "name": "python",
   "nbconvert_exporter": "python",
   "pygments_lexer": "ipython3",
   "version": "3.12.4"
  }
 },
 "nbformat": 4,
 "nbformat_minor": 5
}
