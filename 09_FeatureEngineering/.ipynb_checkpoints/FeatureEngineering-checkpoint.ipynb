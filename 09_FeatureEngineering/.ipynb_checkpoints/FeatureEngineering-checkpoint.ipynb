{
 "cells": [
  {
   "cell_type": "markdown",
   "id": "84554b00-2498-4c4e-ae04-b5bb30526250",
   "metadata": {},
   "source": [
    "## Feature Engineering "
   ]
  },
  {
   "cell_type": "code",
   "execution_count": 3,
   "id": "269b83d3-a671-48d7-9943-82c18185a70e",
   "metadata": {},
   "outputs": [],
   "source": [
    "# feature enginerring is the process of using a domain knowledge to extract features from raw data\n",
    "# data lai prepare garnu parxa data bata algorithm haru use garna ko lagi \n",
    "# feature engineering is extremely important\n",
    "# everbody have different approact for feature enigeering there is no single way of doing it \n",
    "# features - columns \n",
    "# even hawa algorithm can be made good using feature engieering \n"
   ]
  },
  {
   "cell_type": "markdown",
   "id": "0d19aa33-f497-4b86-adb8-da7786ea6fb1",
   "metadata": {},
   "source": [
    "# Feature Enginnering \n",
    "## Types:\n",
    "### 1.Feature Transformation - \n",
    "You have a feature (columns) and you transform that column to better column then it is feature transformation.It is the first step \n",
    "for example - Missing values , Handling Categorical , Outlier , Feature Scaling \n",
    "##### 1.Missing Values \n",
    "Handling missing values some library dont accept missing value either we can remove or fill the mssing value \n",
    "##### 2.Handling Cateogrical Values\n",
    "Convert into numerical values because our library dont accept categorical value (one hot encoding) for eg age is numerical value but range of age is categorical value\n",
    "##### 3.Outlier Detection \n",
    "Faulty values haru data bhanda nachaiyeko value haru which should be deducted so outlier detection should be done\n",
    "##### 4.Feature Scaling\n",
    "Input column or feature can have different scale for eg age = 20 and salary = 200000 so there is distinct values in age and salary. Difference of salary and age is very large so we have to scale the features before giving data (log transform)\n",
    "### 2.Feature Construction - \n",
    "(Manually creating a Feature) we create completely new column with domain knowledge for example you have two columns of no of siblings and no of parentchild data then you can create a new column for family by using those two data so here we add two columns and made it to one this is feature construction.\n",
    "### 3.Feature Selection - \n",
    "(Selecting only some feature which are needed) in the given features we extract only those features which are very important and other are ignored to make algorithm better\n",
    "### 4.Feature Extraction \n",
    "(given feature we extract a completely new feature programatically) \n",
    "rooms | washroom | price ---------- given data \n",
    "so now if it want to use a most imporatant features which to use? \n",
    "we can combine rooms and washroom and give it a new column for square feet and calculate the price so we create completely new feature this process is feature extraction where we do this process programmatically"
   ]
  },
  {
   "cell_type": "code",
   "execution_count": null,
   "id": "5528d2ca-9345-49c9-9bc2-04e3299ebe28",
   "metadata": {},
   "outputs": [],
   "source": []
  }
 ],
 "metadata": {
  "kernelspec": {
   "display_name": "Python 3 (ipykernel)",
   "language": "python",
   "name": "python3"
  },
  "language_info": {
   "codemirror_mode": {
    "name": "ipython",
    "version": 3
   },
   "file_extension": ".py",
   "mimetype": "text/x-python",
   "name": "python",
   "nbconvert_exporter": "python",
   "pygments_lexer": "ipython3",
   "version": "3.12.4"
  }
 },
 "nbformat": 4,
 "nbformat_minor": 5
}
