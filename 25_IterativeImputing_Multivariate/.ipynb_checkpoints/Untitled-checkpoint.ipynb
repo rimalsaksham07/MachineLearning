{
 "cells": [
  {
   "cell_type": "markdown",
   "id": "6e6c51d4-54f6-40a9-b429-9adb47dd1afc",
   "metadata": {},
   "source": [
    "#### Multivariate Imputation by Chained Equations for missing values | MICE algorithm\n"
   ]
  },
  {
   "cell_type": "markdown",
   "id": "a000d507-3fde-4562-b423-c93219a715b0",
   "metadata": {},
   "source": [
    "Multivariate imputation by chained Equations (MICE) it is very famous approach for filling missing values.\n",
    "Assumptions:\n",
    "1. Missing Completely at random\n",
    "2. Missing at random (kunai data dina man nalageko values haru ) - MICE mainly used in this\n",
    "3. Missing not at random (jani jani hatako)\n",
    "Disdavantage:\n",
    "1. Memory in server "
   ]
  },
  {
   "cell_type": "markdown",
   "id": "7eeb4f37-d3b6-48f4-b6f0-3e93caea2a25",
   "metadata": {},
   "source": [
    "### Steps:\n",
    "1. Only in input column so remove output columns from dataset\n",
    "2. Introducinng some fake nan values\n",
    "3. Preditct nan values using MICE\n",
    "4. fill the Nan values with the mean of respectie cols\n",
    "5. left to right move garne ani hamle ja nan bata mean banyaera fill garya them tya feri NaN rakhne aba jun column na nan xa tyo lai xodera aru chai hamro output hunxa tesko purai column ra row lai xoera aru chau hamro output hune bhayo "
   ]
  },
  {
   "cell_type": "code",
   "execution_count": null,
   "id": "13f6c07e-a819-4c52-88b9-a092e983cdf2",
   "metadata": {},
   "outputs": [],
   "source": []
  }
 ],
 "metadata": {
  "kernelspec": {
   "display_name": "Python 3 (ipykernel)",
   "language": "python",
   "name": "python3"
  },
  "language_info": {
   "codemirror_mode": {
    "name": "ipython",
    "version": 3
   },
   "file_extension": ".py",
   "mimetype": "text/x-python",
   "name": "python",
   "nbconvert_exporter": "python",
   "pygments_lexer": "ipython3",
   "version": "3.12.4"
  }
 },
 "nbformat": 4,
 "nbformat_minor": 5
}
